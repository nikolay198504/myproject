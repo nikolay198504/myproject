{
 "cells": [
  {
   "cell_type": "code",
   "execution_count": null,
   "metadata": {},
   "outputs": [],
   "source": [
    "import requests\n",
    "import pprint\n",
    "\n",
    "param = {\n",
    "    'text': 'кто ты?'\n",
    "}\n",
    "response = requests.post('http://127.0.0.1:8000/api/get_answer_async', json=param)\n",
    "print(\"Status code:\", response.status_code)\n",
    "print(\"Response text:\", response.text)\n",
    "try:\n",
    "    pprint.pprint(response.json())\n",
    "except Exception as e:\n",
    "    print(\"Ошибка при декодировании JSON:\", e)\n"
   ]
  },
  {
   "cell_type": "code",
   "execution_count": 1,
   "metadata": {},
   "outputs": [
    {
     "name": "stdout",
     "output_type": "stream",
     "text": [
      "{'request_count': 0}\n"
     ]
    }
   ],
   "source": [
    "import requests\n",
    "import pprint\n",
    "\n",
    "response = requests.get('http://127.0.0.1:8000/api/request_count')\n",
    "pprint.pprint(response.json())\n",
    "\n"
   ]
  }
 ],
 "metadata": {
  "kernelspec": {
   "display_name": "venv",
   "language": "python",
   "name": "python3"
  },
  "language_info": {
   "codemirror_mode": {
    "name": "ipython",
    "version": 3
   },
   "file_extension": ".py",
   "mimetype": "text/x-python",
   "name": "python",
   "nbconvert_exporter": "python",
   "pygments_lexer": "ipython3",
   "version": "3.11.5"
  }
 },
 "nbformat": 4,
 "nbformat_minor": 2
}
